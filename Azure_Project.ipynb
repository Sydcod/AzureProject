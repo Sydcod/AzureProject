{
    "metadata": {
        "kernelspec": {
            "name": "SQL",
            "display_name": "SQL",
            "language": "sql"
        },
        "language_info": {
            "name": "sql",
            "version": ""
        }
    },
    "nbformat_minor": 2,
    "nbformat": 4,
    "cells": [
        {
            "cell_type": "markdown",
            "source": [
                "**Salaries in Data Science**\n",
                "\n",
                "**Introduction**\n",
                "\n",
                "According to the U.S. Bureau of Labor Statistics employment of data scientists is projected to grow 35 percent from 2022 to 2032, much faster than the average for all occupations.\n",
                "\n",
                "About 17,700 new job openings for data scientists are projected each year on average for the following decade. Many of those openings are expected to result from the need to replace workers who transfer to different occupations or exit the labor force, such as to retire.\n",
                "\n",
                "The purpose of our project is to gain insight into the salaries, work environment and employment type for data scientists."
            ],
            "metadata": {
                "azdata_cell_guid": "aff059f4-d441-40c8-81c0-bf05fea7e9f3"
            },
            "attachments": {}
        },
        {
            "cell_type": "markdown",
            "source": [
                "**What are the top 10 countries with the highest average salaries for data science professionals?**\n",
                "\n",
                "#### Analysis\n",
                "\n",
                "From the data visualization, we observe that Qatar offers the highest average salary for data science professionals, followed by Israel and Puerto Rico. The United States and New Zealand also rank highly in terms of average salaries. This information can be beneficial for data scientists considering relocation or for companies looking to benchmark salaries globally.\n",
                "\n",
                "#### Conclusion\n",
                "\n",
                "Identifying the countries with the highest average salaries for data science professionals provides valuable insights for both job seekers and employers. For data scientists, this data can guide decisions on career moves and negotiations. For employers, understanding the global salary landscape helps in setting competitive compensation to attract top talent."
            ],
            "metadata": {
                "azdata_cell_guid": "de345f02-2094-49cc-bba8-af0e99b0abca"
            },
            "attachments": {}
        },
        {
            "cell_type": "code",
            "source": [
                "SELECT TOP (10) company_location AS Country, AVG(salary_in_usd) as Average_Salary\r\n",
                "FROM dbo.Data_Science_Salaries\r\n",
                "GROUP BY company_location\r\n",
                "ORDER BY AVG(salary_in_usd) DESC"
            ],
            "metadata": {
                "azdata_cell_guid": "8f360b72-c575-49a0-8f37-b73b8f82a2c8",
                "language": "sql"
            },
            "outputs": [
                {
                    "output_type": "display_data",
                    "data": {
                        "text/html": "(10 rows affected)"
                    },
                    "metadata": {}
                },
                {
                    "output_type": "display_data",
                    "data": {
                        "text/html": "Total execution time: 00:00:00.079"
                    },
                    "metadata": {}
                },
                {
                    "output_type": "execute_result",
                    "metadata": {},
                    "execution_count": 14,
                    "data": {
                        "application/vnd.dataresource+json": {
                            "schema": {
                                "fields": [
                                    {
                                        "name": "Country"
                                    },
                                    {
                                        "name": "Average_Salary"
                                    }
                                ]
                            },
                            "data": [
                                {
                                    "Country": "Qatar",
                                    "Average_Salary": "300000"
                                },
                                {
                                    "Country": "Israel",
                                    "Average_Salary": "217332"
                                },
                                {
                                    "Country": "Puerto Rico",
                                    "Average_Salary": "167500"
                                },
                                {
                                    "Country": "United States",
                                    "Average_Salary": "157073"
                                },
                                {
                                    "Country": "New Zealand",
                                    "Average_Salary": "151634"
                                },
                                {
                                    "Country": "Canada",
                                    "Average_Salary": "139832"
                                },
                                {
                                    "Country": "Saudi Arabia",
                                    "Average_Salary": "134999"
                                },
                                {
                                    "Country": "Ukraine",
                                    "Average_Salary": "121333"
                                },
                                {
                                    "Country": "Bosnia and Herzegovina",
                                    "Average_Salary": "120000"
                                },
                                {
                                    "Country": "Australia",
                                    "Average_Salary": "114673"
                                }
                            ]
                        },
                        "text/html": [
                            "<table>",
                            "<tr><th>Country</th><th>Average_Salary</th></tr>",
                            "<tr><td>Qatar</td><td>300000</td></tr>",
                            "<tr><td>Israel</td><td>217332</td></tr>",
                            "<tr><td>Puerto Rico</td><td>167500</td></tr>",
                            "<tr><td>United States</td><td>157073</td></tr>",
                            "<tr><td>New Zealand</td><td>151634</td></tr>",
                            "<tr><td>Canada</td><td>139832</td></tr>",
                            "<tr><td>Saudi Arabia</td><td>134999</td></tr>",
                            "<tr><td>Ukraine</td><td>121333</td></tr>",
                            "<tr><td>Bosnia and Herzegovina</td><td>120000</td></tr>",
                            "<tr><td>Australia</td><td>114673</td></tr>",
                            "</table>"
                        ]
                    }
                }
            ],
            "execution_count": 14
        },
        {
            "cell_type": "markdown",
            "source": [
                "#### **What are the job titles with the highest average salaries in the data science field?**\n",
                "\n",
                "#### Analysis\n",
                "\n",
                "From the data visualization, we observe that Analytics Engineering Manager offers the highest average salary, followed by Data Science Director and Staff Machine Learning Engineer. Other high-paying roles include Data Product Manager, Decision Scientist, and Data Science Engineer. This information is useful for data science professionals aiming to identify lucrative career paths and for companies seeking to benchmark salaries for various job titles within the industry.\n",
                "\n",
                "#### Conclusion\n",
                "\n",
                "Understanding the job titles with the highest average salaries in the data science field provides essential insights for both professionals and employers. For data science professionals, this information can guide career development and salary negotiations. For employers, it helps in designing competitive compensation packages to attract and retain talent in crucial roles."
            ],
            "metadata": {
                "azdata_cell_guid": "1615380f-b019-4e45-8ff4-e9afaef7ec85"
            },
            "attachments": {}
        },
        {
            "cell_type": "code",
            "source": [
                "SELECT job_title AS Job_Title, AVG(salary_in_usd) as Average_Salary\r\n",
                "FROM dbo.Data_Science_Salaries\r\n",
                "GROUP BY job_title\r\n",
                "ORDER BY AVG(salary_in_usd) DESC"
            ],
            "metadata": {
                "azdata_cell_guid": "7bb7a486-4049-4c6b-9165-28819e17e38d",
                "language": "sql"
            },
            "outputs": [
                {
                    "output_type": "display_data",
                    "data": {
                        "text/html": "(132 rows affected)"
                    },
                    "metadata": {}
                },
                {
                    "output_type": "display_data",
                    "data": {
                        "text/html": "Total execution time: 00:00:00.025"
                    },
                    "metadata": {}
                },
                {
                    "output_type": "execute_result",
                    "metadata": {},
                    "execution_count": 15,
                    "data": {
                        "application/vnd.dataresource+json": {
                            "schema": {
                                "fields": [
                                    {
                                        "name": "Job_Title"
                                    },
                                    {
                                        "name": "Average_Salary"
                                    }
                                ]
                            },
                            "data": [
                                {
                                    "Job_Title": "Analytics Engineering Manager",
                                    "Average_Salary": "399880"
                                },
                                {
                                    "Job_Title": "Data Science Tech Lead",
                                    "Average_Salary": "375000"
                                },
                                {
                                    "Job_Title": "Managing Director Data Science",
                                    "Average_Salary": "280000"
                                },
                                {
                                    "Job_Title": "AWS Data Architect",
                                    "Average_Salary": "258000"
                                },
                                {
                                    "Job_Title": "Cloud Data Architect",
                                    "Average_Salary": "250000"
                                },
                                {
                                    "Job_Title": "AI Architect",
                                    "Average_Salary": "232058"
                                },
                                {
                                    "Job_Title": "Director of Data Science",
                                    "Average_Salary": "213454"
                                },
                                {
                                    "Job_Title": "Data Infrastructure Engineer",
                                    "Average_Salary": "201375"
                                },
                                {
                                    "Job_Title": "Data Science Director",
                                    "Average_Salary": "201000"
                                },
                                {
                                    "Job_Title": "ML Engineer",
                                    "Average_Salary": "198223"
                                },
                                {
                                    "Job_Title": "Head of Machine Learning",
                                    "Average_Salary": "198103"
                                },
                                {
                                    "Job_Title": "Head of Data",
                                    "Average_Salary": "194412"
                                },
                                {
                                    "Job_Title": "Principal Data Scientist",
                                    "Average_Salary": "194089"
                                },
                                {
                                    "Job_Title": "Machine Learning Scientist",
                                    "Average_Salary": "193710"
                                },
                                {
                                    "Job_Title": "Applied Scientist",
                                    "Average_Salary": "190687"
                                },
                                {
                                    "Job_Title": "Machine Learning Software Engineer",
                                    "Average_Salary": "188440"
                                },
                                {
                                    "Job_Title": "Staff Machine Learning Engineer",
                                    "Average_Salary": "185000"
                                },
                                {
                                    "Job_Title": "Research Engineer",
                                    "Average_Salary": "183729"
                                },
                                {
                                    "Job_Title": "Research Scientist",
                                    "Average_Salary": "180082"
                                },
                                {
                                    "Job_Title": "Head of Data Science",
                                    "Average_Salary": "178387"
                                },
                                {
                                    "Job_Title": "Machine Learning Engineer",
                                    "Average_Salary": "177226"
                                },
                                {
                                    "Job_Title": "Data Science Manager",
                                    "Average_Salary": "177156"
                                },
                                {
                                    "Job_Title": "Data Lead",
                                    "Average_Salary": "176250"
                                },
                                {
                                    "Job_Title": "Machine Learning Modeler",
                                    "Average_Salary": "173350"
                                },
                                {
                                    "Job_Title": "Data Product Manager",
                                    "Average_Salary": "172483"
                                },
                                {
                                    "Job_Title": "Data Science Lead",
                                    "Average_Salary": "169865"
                                },
                                {
                                    "Job_Title": "Deep Learning Engineer",
                                    "Average_Salary": "167427"
                                },
                                {
                                    "Job_Title": "Prompt Engineer",
                                    "Average_Salary": "166500"
                                },
                                {
                                    "Job_Title": "Computer Vision Engineer",
                                    "Average_Salary": "165452"
                                },
                                {
                                    "Job_Title": "Data Architect",
                                    "Average_Salary": "163634"
                                },
                                {
                                    "Job_Title": "Machine Learning Infrastructure Engineer",
                                    "Average_Salary": "162711"
                                },
                                {
                                    "Job_Title": "AI Engineer",
                                    "Average_Salary": "162616"
                                },
                                {
                                    "Job_Title": "Decision Scientist",
                                    "Average_Salary": "159445"
                                },
                                {
                                    "Job_Title": "Principal Data Engineer",
                                    "Average_Salary": "158924"
                                },
                                {
                                    "Job_Title": "Analytics Engineer",
                                    "Average_Salary": "156336"
                                },
                                {
                                    "Job_Title": "Cloud Database Engineer",
                                    "Average_Salary": "155000"
                                },
                                {
                                    "Job_Title": "Data Science",
                                    "Average_Salary": "153537"
                                },
                                {
                                    "Job_Title": "Data Operations Engineer",
                                    "Average_Salary": "151241"
                                },
                                {
                                    "Job_Title": "Machine Learning Manager",
                                    "Average_Salary": "149166"
                                },
                                {
                                    "Job_Title": "Data Scientist",
                                    "Average_Salary": "149036"
                                },
                                {
                                    "Job_Title": "Data Science Engineer",
                                    "Average_Salary": "145476"
                                },
                                {
                                    "Job_Title": "Data Engineer",
                                    "Average_Salary": "144539"
                                },
                                {
                                    "Job_Title": "Marketing Data Analyst",
                                    "Average_Salary": "144327"
                                },
                                {
                                    "Job_Title": "Business Intelligence Specialist",
                                    "Average_Salary": "144153"
                                },
                                {
                                    "Job_Title": "Business Intelligence Engineer",
                                    "Average_Salary": "143110"
                                },
                                {
                                    "Job_Title": "Finance Data Analyst",
                                    "Average_Salary": "141933"
                                },
                                {
                                    "Job_Title": "Applied Machine Learning Engineer",
                                    "Average_Salary": "141726"
                                },
                                {
                                    "Job_Title": "Data Analytics Lead",
                                    "Average_Salary": "141675"
                                },
                                {
                                    "Job_Title": "Machine Learning Researcher",
                                    "Average_Salary": "141421"
                                },
                                {
                                    "Job_Title": "AI Developer",
                                    "Average_Salary": "141140"
                                },
                                {
                                    "Job_Title": "Data Science Practitioner",
                                    "Average_Salary": "140425"
                                },
                                {
                                    "Job_Title": "Data Analytics Manager",
                                    "Average_Salary": "140321"
                                },
                                {
                                    "Job_Title": "Lead Data Engineer",
                                    "Average_Salary": "139230"
                                },
                                {
                                    "Job_Title": "Data Strategy Manager",
                                    "Average_Salary": "138750"
                                },
                                {
                                    "Job_Title": "Data Scientist Lead",
                                    "Average_Salary": "136153"
                                },
                                {
                                    "Job_Title": "Data Operations Manager",
                                    "Average_Salary": "136000"
                                },
                                {
                                    "Job_Title": "Staff Data Scientist",
                                    "Average_Salary": "134500"
                                },
                                {
                                    "Job_Title": "MLOps Engineer",
                                    "Average_Salary": "132464"
                                },
                                {
                                    "Job_Title": "Data Modeler",
                                    "Average_Salary": "132304"
                                },
                                {
                                    "Job_Title": "Cloud Data Engineer",
                                    "Average_Salary": "131617"
                                },
                                {
                                    "Job_Title": "NLP Engineer",
                                    "Average_Salary": "130002"
                                },
                                {
                                    "Job_Title": "Principal Machine Learning Engineer",
                                    "Average_Salary": "129430"
                                },
                                {
                                    "Job_Title": "Data Integration Engineer",
                                    "Average_Salary": "127750"
                                },
                                {
                                    "Job_Title": "Big Data Architect",
                                    "Average_Salary": "126751"
                                },
                                {
                                    "Job_Title": "Business Intelligence Manager",
                                    "Average_Salary": "126750"
                                },
                                {
                                    "Job_Title": "Manager Data Management",
                                    "Average_Salary": "125000"
                                },
                                {
                                    "Job_Title": "Deep Learning Researcher",
                                    "Average_Salary": "124163"
                                },
                                {
                                    "Job_Title": "BI Analyst",
                                    "Average_Salary": "123738"
                                },
                                {
                                    "Job_Title": "Data Visualization Engineer",
                                    "Average_Salary": "122975"
                                },
                                {
                                    "Job_Title": "Principal Data Analyst",
                                    "Average_Salary": "122500"
                                },
                                {
                                    "Job_Title": "Machine Learning Operations Engineer",
                                    "Average_Salary": "120000"
                                },
                                {
                                    "Job_Title": "AI Product Manager",
                                    "Average_Salary": "120000"
                                },
                                {
                                    "Job_Title": "Data Visualization Analyst",
                                    "Average_Salary": "120000"
                                },
                                {
                                    "Job_Title": "ETL Developer",
                                    "Average_Salary": "119444"
                                },
                                {
                                    "Job_Title": "Consultant Data Engineer",
                                    "Average_Salary": "118539"
                                },
                                {
                                    "Job_Title": "Data Visualization Specialist",
                                    "Average_Salary": "117725"
                                },
                                {
                                    "Job_Title": "AI Scientist",
                                    "Average_Salary": "115631"
                                },
                                {
                                    "Job_Title": "Business Intelligence Analyst",
                                    "Average_Salary": "115156"
                                },
                                {
                                    "Job_Title": "Software Data Engineer",
                                    "Average_Salary": "111627"
                                },
                                {
                                    "Job_Title": "Data Manager",
                                    "Average_Salary": "110822"
                                },
                                {
                                    "Job_Title": "Data Strategist",
                                    "Average_Salary": "108014"
                                },
                                {
                                    "Job_Title": "Data Analyst",
                                    "Average_Salary": "106931"
                                },
                                {
                                    "Job_Title": "Data Management Specialist",
                                    "Average_Salary": "106877"
                                },
                                {
                                    "Job_Title": "Lead Data Scientist",
                                    "Average_Salary": "105098"
                                },
                                {
                                    "Job_Title": "BI Developer",
                                    "Average_Salary": "105035"
                                },
                                {
                                    "Job_Title": "Applied Machine Learning Scientist",
                                    "Average_Salary": "104289"
                                },
                                {
                                    "Job_Title": "Business Intelligence Developer",
                                    "Average_Salary": "103380"
                                },
                                {
                                    "Job_Title": "Data Developer",
                                    "Average_Salary": "103030"
                                },
                                {
                                    "Job_Title": "Applied Data Scientist",
                                    "Average_Salary": "102587"
                                },
                                {
                                    "Job_Title": "Research Analyst",
                                    "Average_Salary": "101251"
                                },
                                {
                                    "Job_Title": "Data Science Consultant",
                                    "Average_Salary": "101060"
                                },
                                {
                                    "Job_Title": "Azure Data Engineer",
                                    "Average_Salary": "100000"
                                },
                                {
                                    "Job_Title": "Data Specialist",
                                    "Average_Salary": "96261"
                                },
                                {
                                    "Job_Title": "Data Quality Engineer",
                                    "Average_Salary": "95584"
                                },
                                {
                                    "Job_Title": "Data Analytics Specialist",
                                    "Average_Salary": "95000"
                                },
                                {
                                    "Job_Title": "Data Integration Specialist",
                                    "Average_Salary": "94516"
                                },
                                {
                                    "Job_Title": "Data Operations Analyst",
                                    "Average_Salary": "92899"
                                },
                                {
                                    "Job_Title": "Lead Machine Learning Engineer",
                                    "Average_Salary": "90945"
                                },
                                {
                                    "Job_Title": "Financial Data Analyst",
                                    "Average_Salary": "90375"
                                },
                                {
                                    "Job_Title": "Marketing Data Scientist",
                                    "Average_Salary": "90000"
                                },
                                {
                                    "Job_Title": "Business Intelligence Data Analyst",
                                    "Average_Salary": "83209"
                                },
                                {
                                    "Job_Title": "Data Modeller",
                                    "Average_Salary": "83052"
                                },
                                {
                                    "Job_Title": "Data Quality Analyst",
                                    "Average_Salary": "82863"
                                },
                                {
                                    "Job_Title": "Autonomous Vehicle Technician",
                                    "Average_Salary": "82777"
                                },
                                {
                                    "Job_Title": "Data Analytics Consultant",
                                    "Average_Salary": "81500"
                                },
                                {
                                    "Job_Title": "Data Product Owner",
                                    "Average_Salary": "80115"
                                },
                                {
                                    "Job_Title": "Staff Data Analyst",
                                    "Average_Salary": "79917"
                                },
                                {
                                    "Job_Title": "Data Analytics Engineer",
                                    "Average_Salary": "78839"
                                },
                                {
                                    "Job_Title": "Computer Vision Software Engineer",
                                    "Average_Salary": "77760"
                                },
                                {
                                    "Job_Title": "Big Data Engineer",
                                    "Average_Salary": "74980"
                                },
                                {
                                    "Job_Title": "Data DevOps Engineer",
                                    "Average_Salary": "74498"
                                },
                                {
                                    "Job_Title": "Business Data Analyst",
                                    "Average_Salary": "73567"
                                },
                                {
                                    "Job_Title": "Machine Learning Developer",
                                    "Average_Salary": "72703"
                                },
                                {
                                    "Job_Title": "Lead Data Analyst",
                                    "Average_Salary": "72570"
                                },
                                {
                                    "Job_Title": "ETL Engineer",
                                    "Average_Salary": "72286"
                                },
                                {
                                    "Job_Title": "Data Management Analyst",
                                    "Average_Salary": "70500"
                                },
                                {
                                    "Job_Title": "Product Data Analyst",
                                    "Average_Salary": "69436"
                                },
                                {
                                    "Job_Title": "BI Data Analyst",
                                    "Average_Salary": "69026"
                                },
                                {
                                    "Job_Title": "AI Programmer",
                                    "Average_Salary": "67382"
                                },
                                {
                                    "Job_Title": "Marketing Data Engineer",
                                    "Average_Salary": "66970"
                                },
                                {
                                    "Job_Title": "Power BI Developer",
                                    "Average_Salary": "64781"
                                },
                                {
                                    "Job_Title": "AI Research Engineer",
                                    "Average_Salary": "63481"
                                },
                                {
                                    "Job_Title": "Machine Learning Research Engineer",
                                    "Average_Salary": "62504"
                                },
                                {
                                    "Job_Title": "BI Data Engineer",
                                    "Average_Salary": "60000"
                                },
                                {
                                    "Job_Title": "Sales Data Analyst",
                                    "Average_Salary": "60000"
                                },
                                {
                                    "Job_Title": "Data Quality Manager",
                                    "Average_Salary": "59059"
                                },
                                {
                                    "Job_Title": "Data Operations Specialist",
                                    "Average_Salary": "55355"
                                },
                                {
                                    "Job_Title": "Machine Learning Specialist",
                                    "Average_Salary": "55000"
                                },
                                {
                                    "Job_Title": "Insight Analyst",
                                    "Average_Salary": "46339"
                                },
                                {
                                    "Job_Title": "Compliance Data Analyst",
                                    "Average_Salary": "45000"
                                },
                                {
                                    "Job_Title": "Principal Data Architect",
                                    "Average_Salary": "38154"
                                },
                                {
                                    "Job_Title": "Data Analyst Lead",
                                    "Average_Salary": "18000"
                                }
                            ]
                        },
                        "text/html": [
                            "<table>",
                            "<tr><th>Job_Title</th><th>Average_Salary</th></tr>",
                            "<tr><td>Analytics Engineering Manager</td><td>399880</td></tr>",
                            "<tr><td>Data Science Tech Lead</td><td>375000</td></tr>",
                            "<tr><td>Managing Director Data Science</td><td>280000</td></tr>",
                            "<tr><td>AWS Data Architect</td><td>258000</td></tr>",
                            "<tr><td>Cloud Data Architect</td><td>250000</td></tr>",
                            "<tr><td>AI Architect</td><td>232058</td></tr>",
                            "<tr><td>Director of Data Science</td><td>213454</td></tr>",
                            "<tr><td>Data Infrastructure Engineer</td><td>201375</td></tr>",
                            "<tr><td>Data Science Director</td><td>201000</td></tr>",
                            "<tr><td>ML Engineer</td><td>198223</td></tr>",
                            "<tr><td>Head of Machine Learning</td><td>198103</td></tr>",
                            "<tr><td>Head of Data</td><td>194412</td></tr>",
                            "<tr><td>Principal Data Scientist</td><td>194089</td></tr>",
                            "<tr><td>Machine Learning Scientist</td><td>193710</td></tr>",
                            "<tr><td>Applied Scientist</td><td>190687</td></tr>",
                            "<tr><td>Machine Learning Software Engineer</td><td>188440</td></tr>",
                            "<tr><td>Staff Machine Learning Engineer</td><td>185000</td></tr>",
                            "<tr><td>Research Engineer</td><td>183729</td></tr>",
                            "<tr><td>Research Scientist</td><td>180082</td></tr>",
                            "<tr><td>Head of Data Science</td><td>178387</td></tr>",
                            "<tr><td>Machine Learning Engineer</td><td>177226</td></tr>",
                            "<tr><td>Data Science Manager</td><td>177156</td></tr>",
                            "<tr><td>Data Lead</td><td>176250</td></tr>",
                            "<tr><td>Machine Learning Modeler</td><td>173350</td></tr>",
                            "<tr><td>Data Product Manager</td><td>172483</td></tr>",
                            "<tr><td>Data Science Lead</td><td>169865</td></tr>",
                            "<tr><td>Deep Learning Engineer</td><td>167427</td></tr>",
                            "<tr><td>Prompt Engineer</td><td>166500</td></tr>",
                            "<tr><td>Computer Vision Engineer</td><td>165452</td></tr>",
                            "<tr><td>Data Architect</td><td>163634</td></tr>",
                            "<tr><td>Machine Learning Infrastructure Engineer</td><td>162711</td></tr>",
                            "<tr><td>AI Engineer</td><td>162616</td></tr>",
                            "<tr><td>Decision Scientist</td><td>159445</td></tr>",
                            "<tr><td>Principal Data Engineer</td><td>158924</td></tr>",
                            "<tr><td>Analytics Engineer</td><td>156336</td></tr>",
                            "<tr><td>Cloud Database Engineer</td><td>155000</td></tr>",
                            "<tr><td>Data Science</td><td>153537</td></tr>",
                            "<tr><td>Data Operations Engineer</td><td>151241</td></tr>",
                            "<tr><td>Machine Learning Manager</td><td>149166</td></tr>",
                            "<tr><td>Data Scientist</td><td>149036</td></tr>",
                            "<tr><td>Data Science Engineer</td><td>145476</td></tr>",
                            "<tr><td>Data Engineer</td><td>144539</td></tr>",
                            "<tr><td>Marketing Data Analyst</td><td>144327</td></tr>",
                            "<tr><td>Business Intelligence Specialist</td><td>144153</td></tr>",
                            "<tr><td>Business Intelligence Engineer</td><td>143110</td></tr>",
                            "<tr><td>Finance Data Analyst</td><td>141933</td></tr>",
                            "<tr><td>Applied Machine Learning Engineer</td><td>141726</td></tr>",
                            "<tr><td>Data Analytics Lead</td><td>141675</td></tr>",
                            "<tr><td>Machine Learning Researcher</td><td>141421</td></tr>",
                            "<tr><td>AI Developer</td><td>141140</td></tr>",
                            "<tr><td>Data Science Practitioner</td><td>140425</td></tr>",
                            "<tr><td>Data Analytics Manager</td><td>140321</td></tr>",
                            "<tr><td>Lead Data Engineer</td><td>139230</td></tr>",
                            "<tr><td>Data Strategy Manager</td><td>138750</td></tr>",
                            "<tr><td>Data Scientist Lead</td><td>136153</td></tr>",
                            "<tr><td>Data Operations Manager</td><td>136000</td></tr>",
                            "<tr><td>Staff Data Scientist</td><td>134500</td></tr>",
                            "<tr><td>MLOps Engineer</td><td>132464</td></tr>",
                            "<tr><td>Data Modeler</td><td>132304</td></tr>",
                            "<tr><td>Cloud Data Engineer</td><td>131617</td></tr>",
                            "<tr><td>NLP Engineer</td><td>130002</td></tr>",
                            "<tr><td>Principal Machine Learning Engineer</td><td>129430</td></tr>",
                            "<tr><td>Data Integration Engineer</td><td>127750</td></tr>",
                            "<tr><td>Big Data Architect</td><td>126751</td></tr>",
                            "<tr><td>Business Intelligence Manager</td><td>126750</td></tr>",
                            "<tr><td>Manager Data Management</td><td>125000</td></tr>",
                            "<tr><td>Deep Learning Researcher</td><td>124163</td></tr>",
                            "<tr><td>BI Analyst</td><td>123738</td></tr>",
                            "<tr><td>Data Visualization Engineer</td><td>122975</td></tr>",
                            "<tr><td>Principal Data Analyst</td><td>122500</td></tr>",
                            "<tr><td>Machine Learning Operations Engineer</td><td>120000</td></tr>",
                            "<tr><td>AI Product Manager</td><td>120000</td></tr>",
                            "<tr><td>Data Visualization Analyst</td><td>120000</td></tr>",
                            "<tr><td>ETL Developer</td><td>119444</td></tr>",
                            "<tr><td>Consultant Data Engineer</td><td>118539</td></tr>",
                            "<tr><td>Data Visualization Specialist</td><td>117725</td></tr>",
                            "<tr><td>AI Scientist</td><td>115631</td></tr>",
                            "<tr><td>Business Intelligence Analyst</td><td>115156</td></tr>",
                            "<tr><td>Software Data Engineer</td><td>111627</td></tr>",
                            "<tr><td>Data Manager</td><td>110822</td></tr>",
                            "<tr><td>Data Strategist</td><td>108014</td></tr>",
                            "<tr><td>Data Analyst</td><td>106931</td></tr>",
                            "<tr><td>Data Management Specialist</td><td>106877</td></tr>",
                            "<tr><td>Lead Data Scientist</td><td>105098</td></tr>",
                            "<tr><td>BI Developer</td><td>105035</td></tr>",
                            "<tr><td>Applied Machine Learning Scientist</td><td>104289</td></tr>",
                            "<tr><td>Business Intelligence Developer</td><td>103380</td></tr>",
                            "<tr><td>Data Developer</td><td>103030</td></tr>",
                            "<tr><td>Applied Data Scientist</td><td>102587</td></tr>",
                            "<tr><td>Research Analyst</td><td>101251</td></tr>",
                            "<tr><td>Data Science Consultant</td><td>101060</td></tr>",
                            "<tr><td>Azure Data Engineer</td><td>100000</td></tr>",
                            "<tr><td>Data Specialist</td><td>96261</td></tr>",
                            "<tr><td>Data Quality Engineer</td><td>95584</td></tr>",
                            "<tr><td>Data Analytics Specialist</td><td>95000</td></tr>",
                            "<tr><td>Data Integration Specialist</td><td>94516</td></tr>",
                            "<tr><td>Data Operations Analyst</td><td>92899</td></tr>",
                            "<tr><td>Lead Machine Learning Engineer</td><td>90945</td></tr>",
                            "<tr><td>Financial Data Analyst</td><td>90375</td></tr>",
                            "<tr><td>Marketing Data Scientist</td><td>90000</td></tr>",
                            "<tr><td>Business Intelligence Data Analyst</td><td>83209</td></tr>",
                            "<tr><td>Data Modeller</td><td>83052</td></tr>",
                            "<tr><td>Data Quality Analyst</td><td>82863</td></tr>",
                            "<tr><td>Autonomous Vehicle Technician</td><td>82777</td></tr>",
                            "<tr><td>Data Analytics Consultant</td><td>81500</td></tr>",
                            "<tr><td>Data Product Owner</td><td>80115</td></tr>",
                            "<tr><td>Staff Data Analyst</td><td>79917</td></tr>",
                            "<tr><td>Data Analytics Engineer</td><td>78839</td></tr>",
                            "<tr><td>Computer Vision Software Engineer</td><td>77760</td></tr>",
                            "<tr><td>Big Data Engineer</td><td>74980</td></tr>",
                            "<tr><td>Data DevOps Engineer</td><td>74498</td></tr>",
                            "<tr><td>Business Data Analyst</td><td>73567</td></tr>",
                            "<tr><td>Machine Learning Developer</td><td>72703</td></tr>",
                            "<tr><td>Lead Data Analyst</td><td>72570</td></tr>",
                            "<tr><td>ETL Engineer</td><td>72286</td></tr>",
                            "<tr><td>Data Management Analyst</td><td>70500</td></tr>",
                            "<tr><td>Product Data Analyst</td><td>69436</td></tr>",
                            "<tr><td>BI Data Analyst</td><td>69026</td></tr>",
                            "<tr><td>AI Programmer</td><td>67382</td></tr>",
                            "<tr><td>Marketing Data Engineer</td><td>66970</td></tr>",
                            "<tr><td>Power BI Developer</td><td>64781</td></tr>",
                            "<tr><td>AI Research Engineer</td><td>63481</td></tr>",
                            "<tr><td>Machine Learning Research Engineer</td><td>62504</td></tr>",
                            "<tr><td>BI Data Engineer</td><td>60000</td></tr>",
                            "<tr><td>Sales Data Analyst</td><td>60000</td></tr>",
                            "<tr><td>Data Quality Manager</td><td>59059</td></tr>",
                            "<tr><td>Data Operations Specialist</td><td>55355</td></tr>",
                            "<tr><td>Machine Learning Specialist</td><td>55000</td></tr>",
                            "<tr><td>Insight Analyst</td><td>46339</td></tr>",
                            "<tr><td>Compliance Data Analyst</td><td>45000</td></tr>",
                            "<tr><td>Principal Data Architect</td><td>38154</td></tr>",
                            "<tr><td>Data Analyst Lead</td><td>18000</td></tr>",
                            "</table>"
                        ]
                    }
                }
            ],
            "execution_count": 15
        },
        {
            "cell_type": "markdown",
            "source": [
                "#### **How do average salaries vary across different experience levels for data science professionals?**\n",
                "\n",
                "#### Analysis\n",
                "\n",
                "From the data visualization, we observe that average salaries increase with experience level. Executive-level professionals earn the highest average salaries, followed by senior-level and mid-level professionals. Entry-level data scientists earn the lowest average salaries. This pattern indicates a strong correlation between experience and compensation in the data science field.\n",
                "\n",
                "#### Conclusion\n",
                "\n",
                "Understanding the relationship between experience level and average salary is crucial for both professionals and employers in the data science field. For professionals, this information highlights the potential salary growth with increased experience, which can guide career planning and development."
            ],
            "metadata": {
                "azdata_cell_guid": "4a0adfbb-8db0-440e-ae06-a3553ec1909e"
            },
            "attachments": {}
        },
        {
            "cell_type": "code",
            "source": [
                "SELECT experience_level AS Experience_Level, AVG(salary_in_usd) as Average_Salary\r\n",
                "FROM dbo.Data_Science_Salaries\r\n",
                "GROUP BY experience_level\r\n",
                "ORDER BY AVG(salary_in_usd) DESC"
            ],
            "metadata": {
                "azdata_cell_guid": "6f407668-258f-47cd-a01d-7b173b3af54d",
                "language": "sql"
            },
            "outputs": [
                {
                    "output_type": "display_data",
                    "data": {
                        "text/html": "(4 rows affected)"
                    },
                    "metadata": {}
                },
                {
                    "output_type": "display_data",
                    "data": {
                        "text/html": "Total execution time: 00:00:00.021"
                    },
                    "metadata": {}
                },
                {
                    "output_type": "execute_result",
                    "metadata": {},
                    "execution_count": 16,
                    "data": {
                        "application/vnd.dataresource+json": {
                            "schema": {
                                "fields": [
                                    {
                                        "name": "Experience_Level"
                                    },
                                    {
                                        "name": "Average_Salary"
                                    }
                                ]
                            },
                            "data": [
                                {
                                    "Experience_Level": "Executive-level",
                                    "Average_Salary": "189687"
                                },
                                {
                                    "Experience_Level": "Senior-level",
                                    "Average_Salary": "162071"
                                },
                                {
                                    "Experience_Level": "Mid-level",
                                    "Average_Salary": "119019"
                                },
                                {
                                    "Experience_Level": "Entry-level",
                                    "Average_Salary": "84448"
                                }
                            ]
                        },
                        "text/html": [
                            "<table>",
                            "<tr><th>Experience_Level</th><th>Average_Salary</th></tr>",
                            "<tr><td>Executive-level</td><td>189687</td></tr>",
                            "<tr><td>Senior-level</td><td>162071</td></tr>",
                            "<tr><td>Mid-level</td><td>119019</td></tr>",
                            "<tr><td>Entry-level</td><td>84448</td></tr>",
                            "</table>"
                        ]
                    }
                }
            ],
            "execution_count": 16
        },
        {
            "cell_type": "markdown",
            "source": [
                "#### **What are the most common employment types for data science professionals?**\n",
                "\n",
                "#### Analysis\n",
                "\n",
                "From the data visualization, we observe that the majority of data science professionals work on-site, followed by those working remotely. The least common employment type is the hybrid model, where professionals split their time between on-site and remote work. This distribution reflects current trends in work preferences and company policies within the data science industry.\n",
                "\n",
                "#### Conclusion\n",
                "\n",
                "Understanding the distribution of employment types among data science professionals provides valuable insights for both job seekers and employers. For job seekers, it highlights the predominant work arrangements in the industry, helping them align their job search with their work preferences. For employers, it offers a perspective on how to structure work policies to attract and retain talent, considering the significant preference for on-site and remote work models over hybrid arrangements."
            ],
            "metadata": {
                "azdata_cell_guid": "7569953f-36bb-4616-9ef8-33a406d6f907"
            },
            "attachments": {}
        },
        {
            "cell_type": "code",
            "source": [
                "SELECT work_models AS Work_Model, COUNT(work_models) AS Count_Work_Model\r\n",
                "FROM dbo.Data_Science_Salaries\r\n",
                "GROUP BY work_models\r\n",
                ""
            ],
            "metadata": {
                "azdata_cell_guid": "5dd65ecb-6bb4-4431-9347-8d8dcb258e7c",
                "language": "sql"
            },
            "outputs": [
                {
                    "output_type": "display_data",
                    "data": {
                        "text/html": "(3 rows affected)"
                    },
                    "metadata": {}
                },
                {
                    "output_type": "display_data",
                    "data": {
                        "text/html": "Total execution time: 00:00:00.018"
                    },
                    "metadata": {}
                },
                {
                    "output_type": "execute_result",
                    "metadata": {},
                    "execution_count": 17,
                    "data": {
                        "application/vnd.dataresource+json": {
                            "schema": {
                                "fields": [
                                    {
                                        "name": "Work_Model"
                                    },
                                    {
                                        "name": "Count_Work_Model"
                                    }
                                ]
                            },
                            "data": [
                                {
                                    "Work_Model": "Hybrid",
                                    "Count_Work_Model": "225"
                                },
                                {
                                    "Work_Model": "On-site",
                                    "Count_Work_Model": "3813"
                                },
                                {
                                    "Work_Model": "Remote",
                                    "Count_Work_Model": "2561"
                                }
                            ]
                        },
                        "text/html": [
                            "<table>",
                            "<tr><th>Work_Model</th><th>Count_Work_Model</th></tr>",
                            "<tr><td>Hybrid</td><td>225</td></tr>",
                            "<tr><td>On-site</td><td>3813</td></tr>",
                            "<tr><td>Remote</td><td>2561</td></tr>",
                            "</table>"
                        ]
                    }
                }
            ],
            "execution_count": 17
        },
        {
            "cell_type": "markdown",
            "source": [
                "#### **How have average salaries for data science professionals changed over the past five years?**\n",
                "\n",
                "#### Analysis\n",
                "\n",
                "From the data visualization, we observe a general upward trend in the average salaries for data science professionals from 2020 to 2024. There was a slight dip in 2021, but salaries increased significantly in the subsequent years, reaching the highest average in 2024. This trend indicates a growing demand for data science skills and the increasing value placed on these professionals in the market.\n",
                "\n",
                "#### Conclusion\n",
                "\n",
                "The analysis of average salaries over the past five years reveals a positive growth trajectory for data science professionals. This information is beneficial for both job seekers and employers. Job seekers can be optimistic about the increasing earning potential in the field, while employers should be aware of the upward salary trends to remain competitive in attracting and retaining top talent."
            ],
            "metadata": {
                "azdata_cell_guid": "c43c6a73-1bda-499d-89f2-2c7d3adce85c"
            },
            "attachments": {}
        },
        {
            "cell_type": "code",
            "source": [
                "SELECT work_year AS Work_Year, AVG(salary_in_usd) AS Average_Salary\r\n",
                "FROM dbo.Data_Science_Salaries\r\n",
                "GROUP BY work_year\r\n",
                "ORDER BY work_year"
            ],
            "metadata": {
                "azdata_cell_guid": "1b4f9d9f-c037-4ee1-8fb1-8390db27cec4",
                "language": "sql"
            },
            "outputs": [
{
    "output_type": "display_data",
    "data": {
        "text/html": "(5 rows affected)"
    },
    "metadata": {}
}, {
    "output_type": "display_data",
    "data": {
        "text/html": "Total execution time: 00:00:00.017"
    },
    "metadata": {}
}, {
    "output_type": "execute_result",
    "metadata": {},
    "execution_count": 18,
    "data": {
        "application/vnd.dataresource+json": {
            "schema": {
                "fields": [
                    {
                        "name": "Work_Year"
                    },
                    {
                        "name": "Average_Salary"
                    }
                ]
            },
            "data": [
                {
                    "Work_Year": "2020",
                    "Average_Salary": "102250"
                },
                {
                    "Work_Year": "2021",
                    "Average_Salary": "99501"
                },
                {
                    "Work_Year": "2022",
                    "Average_Salary": "131788"
                },
                {
                    "Work_Year": "2023",
                    "Average_Salary": "150791"
                },
                {
                    "Work_Year": "2024",
                    "Average_Salary": "153124"
                }
            ]
        },
        "text/html": [
            "<table>",
            "<tr><th>Work_Year</th><th>Average_Salary</th></tr>",
            "<tr><td>2020</td><td>102250</td></tr>",
            "<tr><td>2021</td><td>99501</td></tr>",
            "<tr><td>2022</td><td>131788</td></tr>",
            "<tr><td>2023</td><td>150791</td></tr>",
            "<tr><td>2024</td><td>153124</td></tr>",
            "</table>"
        ]
    }
}
],
            "execution_count": 18
        },
        {
            "cell_type": "markdown",
            "source": [
                "#### **How do average salaries for data science professionals vary by employment type?**\n",
                "\n",
                "#### Analysis\n",
                "\n",
                "From the data visualization, we observe that full-time and contract employment types offer the highest average salaries for data science professionals. Part-time and freelance roles have lower average salaries in comparison. This distribution suggests that companies are willing to pay a premium for full-time and contract employees, reflecting a preference for stable and committed work arrangements.\n",
                "\n",
                "#### Conclusion\n",
                "\n",
                "The analysis of average salaries by employment type provides important insights for both job seekers and employers. For data science professionals, it highlights the financial benefits of full-time and contract positions over part-time and freelance roles. For employers, it emphasizes the need to offer competitive salaries for full-time and contract positions to attract and retain top talent. Understanding these salary distributions can help in structuring more effective employment packages and career planning strategies."
            ],
            "metadata": {
                "azdata_cell_guid": "a334fbe8-3b2b-4748-84b1-0e4f1e425e77"
            },
            "attachments": {}
        }
    ]
}