{
    "metadata": {
        "kernelspec": {
            "name": "SQL",
            "display_name": "SQL",
            "language": "sql"
        },
        "language_info": {
            "name": "sql",
            "version": ""
        }
    },
    "nbformat_minor": 2,
    "nbformat": 4,
    "cells": [
        {
            "cell_type": "code",
            "source": [
                "SELECT TOP (10) company_location AS Country, AVG(salary_in_usd) as Average_Salary\r\n",
                "FROM dbo.Data_Science_Salaries\r\n",
                "GROUP BY company_location\r\n",
                "ORDER BY AVG(salary_in_usd) DESC"
            ],
            "metadata": {
                "azdata_cell_guid": "8f360b72-c575-49a0-8f37-b73b8f82a2c8",
                "language": "sql"
            },
            "outputs": [
                {
                    "output_type": "display_data",
                    "data": {
                        "text/html": "(10 rows affected)"
                    },
                    "metadata": {}
                },
                {
                    "output_type": "display_data",
                    "data": {
                        "text/html": "Total execution time: 00:00:00.059"
                    },
                    "metadata": {}
                },
                {
                    "output_type": "execute_result",
                    "metadata": {
                        "azdata_chartOptions": {
                            "type": "bar",
                            "dataDirection": "vertical",
                            "columnsAsLabels": true,
                            "labelFirstColumn": false,
                            "legendPosition": "top"
                        }
                    },
                    "execution_count": 2,
                    "data": {
                        "application/vnd.dataresource+json": {
                            "schema": {
                                "fields": [
                                    {
                                        "name": "Country"
                                    },
                                    {
                                        "name": "Average_Salary"
                                    }
                                ]
                            },
                            "data": [
                                {
                                    "Country": "Qatar",
                                    "Average_Salary": "300000"
                                },
                                {
                                    "Country": "Israel",
                                    "Average_Salary": "217332"
                                },
                                {
                                    "Country": "Puerto Rico",
                                    "Average_Salary": "167500"
                                },
                                {
                                    "Country": "United States",
                                    "Average_Salary": "157073"
                                },
                                {
                                    "Country": "New Zealand",
                                    "Average_Salary": "151634"
                                },
                                {
                                    "Country": "Canada",
                                    "Average_Salary": "139832"
                                },
                                {
                                    "Country": "Saudi Arabia",
                                    "Average_Salary": "134999"
                                },
                                {
                                    "Country": "Ukraine",
                                    "Average_Salary": "121333"
                                },
                                {
                                    "Country": "Bosnia and Herzegovina",
                                    "Average_Salary": "120000"
                                },
                                {
                                    "Country": "Australia",
                                    "Average_Salary": "114673"
                                }
                            ]
                        },
                        "text/html": [
                            "<table>",
                            "<tr><th>Country</th><th>Average_Salary</th></tr>",
                            "<tr><td>Qatar</td><td>300000</td></tr>",
                            "<tr><td>Israel</td><td>217332</td></tr>",
                            "<tr><td>Puerto Rico</td><td>167500</td></tr>",
                            "<tr><td>United States</td><td>157073</td></tr>",
                            "<tr><td>New Zealand</td><td>151634</td></tr>",
                            "<tr><td>Canada</td><td>139832</td></tr>",
                            "<tr><td>Saudi Arabia</td><td>134999</td></tr>",
                            "<tr><td>Ukraine</td><td>121333</td></tr>",
                            "<tr><td>Bosnia and Herzegovina</td><td>120000</td></tr>",
                            "<tr><td>Australia</td><td>114673</td></tr>",
                            "</table>"
                        ]
                    }
                }
            ],
            "execution_count": 2
        }
    ]
}